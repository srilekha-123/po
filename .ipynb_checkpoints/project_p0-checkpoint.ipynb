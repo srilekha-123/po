{
 "cells": [
  {
   "cell_type": "code",
   "execution_count": 2,
   "id": "ebda3fcb-9813-4565-ab10-6d5d52241f70",
   "metadata": {},
   "outputs": [],
   "source": [
    "import json\n",
    "customerjsonfile=open(\"C:\\\\Users\\\\yeruv\\\\Documents\\\\revature files\\\\po\\\\DataSets\\\\customers.json\",'r')\n",
    "transactionjsonfile=open(\"C:\\\\Users\\\\yeruv\\\\Documents\\\\revature files\\\\po\\\\DataSets\\\\transaction_logs.json\",'r')\n",
    "customerjsondata=customerjsonfile.read()\n",
    "customerdata=json.loads(customerjsondata)\n",
    "transactionjsondata=transactionjsonfile.read()\n",
    "transactiondata=json.loads(transactionjsondata)\n",
    "# print(customerdata)\n",
    "# print(transactiondata)"
   ]
  },
  {
   "cell_type": "code",
   "execution_count": 3,
   "id": "20c264b9-1b1c-4597-af0a-5226c169a522",
   "metadata": {},
   "outputs": [
    {
     "name": "stdout",
     "output_type": "stream",
     "text": [
      "     customer_id     customer_name      country           city\n",
      "0           9780      Jessica Hart   Martinique  South William\n",
      "1           9169         Amy Clark   Kazakhstan     Davisville\n",
      "2           6631  Danielle Elliott      Armenia     East Danny\n",
      "3           8772     Robin Mendoza       Uganda    Johnsonbury\n",
      "4           8913    Abigail Miller      Namibia  Wrightchester\n",
      "..           ...               ...          ...            ...\n",
      "995         6357    Jessica Castro     Dominica     Deannastad\n",
      "996          244    Cheryl Ramirez       Malawi  Martinezmouth\n",
      "997         4490   Luis Strickland        Italy     Oneilltown\n",
      "998         2984    Jennifer Kelly      Bahamas    Xavierville\n",
      "999         8760    Anthony Wilson  Switzerland      Torreston\n",
      "\n",
      "[1000 rows x 4 columns]\n"
     ]
    }
   ],
   "source": [
    "#pandas\n",
    "#customerdf\n",
    "import pandas as pd\n",
    "customerdf=pd.DataFrame(customerdata)\n",
    "print(customerdf)"
   ]
  },
  {
   "cell_type": "code",
   "execution_count": 4,
   "id": "b83d97ed-7202-422a-8439-d7c2f37aeddd",
   "metadata": {},
   "outputs": [],
   "source": [
    "#transactiondf\n",
    "import pandas as pd\n",
    "transactiondf=pd.DataFrame(transactiondata)"
   ]
  },
  {
   "cell_type": "code",
   "execution_count": 5,
   "id": "4ddc79ab-490a-4635-9fd3-20fd4ab3555a",
   "metadata": {},
   "outputs": [
    {
     "name": "stdout",
     "output_type": "stream",
     "text": [
      "<class 'pandas.core.frame.DataFrame'>\n",
      "RangeIndex: 1000 entries, 0 to 999\n",
      "Data columns (total 4 columns):\n",
      " #   Column         Non-Null Count  Dtype \n",
      "---  ------         --------------  ----- \n",
      " 0   customer_id    1000 non-null   int64 \n",
      " 1   customer_name  1000 non-null   object\n",
      " 2   country        1000 non-null   object\n",
      " 3   city           1000 non-null   object\n",
      "dtypes: int64(1), object(3)\n",
      "memory usage: 31.4+ KB\n",
      "<class 'pandas.core.frame.DataFrame'>\n",
      "RangeIndex: 10000 entries, 0 to 9999\n",
      "Data columns (total 13 columns):\n",
      " #   Column                  Non-Null Count  Dtype \n",
      "---  ------                  --------------  ----- \n",
      " 0   order_id                10000 non-null  int64 \n",
      " 1   customer_id             10000 non-null  int64 \n",
      " 2   product_id              10000 non-null  int64 \n",
      " 3   product_name            10000 non-null  object\n",
      " 4   product_category        10000 non-null  object\n",
      " 5   payment_type            10000 non-null  object\n",
      " 6   qty                     10000 non-null  int64 \n",
      " 7   price                   10000 non-null  int64 \n",
      " 8   datetime                10000 non-null  object\n",
      " 9   ecommerce_website_name  10000 non-null  object\n",
      " 10  payment_txn_id          10000 non-null  object\n",
      " 11  payment_txn_success     10000 non-null  object\n",
      " 12  failure_reason          10000 non-null  object\n",
      "dtypes: int64(5), object(8)\n",
      "memory usage: 1015.8+ KB\n"
     ]
    }
   ],
   "source": [
    "customerdf.info()\n",
    "transactiondf.info()"
   ]
  },
  {
   "cell_type": "code",
   "execution_count": 6,
   "id": "c20a2ffc-cf94-4a1a-9fc9-b9a1108d865f",
   "metadata": {},
   "outputs": [
    {
     "name": "stdout",
     "output_type": "stream",
     "text": [
      "<class 'pandas.core.frame.DataFrame'>\n",
      "RangeIndex: 1000 entries, 0 to 999\n",
      "Data columns (total 4 columns):\n",
      " #   Column         Non-Null Count  Dtype \n",
      "---  ------         --------------  ----- \n",
      " 0   customer_id    1000 non-null   int64 \n",
      " 1   customer_name  1000 non-null   object\n",
      " 2   country        1000 non-null   object\n",
      " 3   city           1000 non-null   object\n",
      "dtypes: int64(1), object(3)\n",
      "memory usage: 31.4+ KB\n",
      "<class 'pandas.core.frame.DataFrame'>\n",
      "RangeIndex: 10000 entries, 0 to 9999\n",
      "Data columns (total 13 columns):\n",
      " #   Column                  Non-Null Count  Dtype \n",
      "---  ------                  --------------  ----- \n",
      " 0   order_id                10000 non-null  int64 \n",
      " 1   customer_id             10000 non-null  int64 \n",
      " 2   product_id              10000 non-null  int64 \n",
      " 3   product_name            10000 non-null  object\n",
      " 4   product_category        10000 non-null  object\n",
      " 5   payment_type            10000 non-null  object\n",
      " 6   qty                     10000 non-null  int64 \n",
      " 7   price                   10000 non-null  int64 \n",
      " 8   datetime                10000 non-null  object\n",
      " 9   ecommerce_website_name  10000 non-null  object\n",
      " 10  payment_txn_id          10000 non-null  object\n",
      " 11  payment_txn_success     10000 non-null  object\n",
      " 12  failure_reason          10000 non-null  object\n",
      "dtypes: int64(5), object(8)\n",
      "memory usage: 1015.8+ KB\n"
     ]
    }
   ],
   "source": [
    "customerdf.info()\n",
    "transactiondf.info()"
   ]
  },
  {
   "cell_type": "code",
   "execution_count": 7,
   "id": "01e1177c-c1d4-4cbd-a03f-240dfc918115",
   "metadata": {},
   "outputs": [
    {
     "name": "stdout",
     "output_type": "stream",
     "text": [
      "Finding missing values in cutomerdf:\n",
      "customer_id      0\n",
      "customer_name    0\n",
      "country          0\n",
      "city             0\n",
      "dtype: int64\n",
      "Finding missing values in transactiondf:\n",
      "order_id                  0\n",
      "customer_id               0\n",
      "product_id                0\n",
      "product_name              0\n",
      "product_category          0\n",
      "payment_type              0\n",
      "qty                       0\n",
      "price                     0\n",
      "datetime                  0\n",
      "ecommerce_website_name    0\n",
      "payment_txn_id            0\n",
      "payment_txn_success       0\n",
      "failure_reason            0\n",
      "dtype: int64\n"
     ]
    }
   ],
   "source": [
    "#finding missing values in the data\n",
    "print(\"Finding missing values in cutomerdf:\")\n",
    "print(customerdf.isnull().sum()) # it checks if there are any missing columns in each column\n",
    "print(\"Finding missing values in transactiondf:\")\n",
    "print(transactiondf.isnull().sum())"
   ]
  },
  {
   "cell_type": "code",
   "execution_count": 8,
   "id": "0d23ca45-4cea-4fed-9ad3-c7188c545ead",
   "metadata": {},
   "outputs": [
    {
     "name": "stdout",
     "output_type": "stream",
     "text": [
      "customer_id      1000\n",
      "customer_name    1000\n",
      "country          1000\n",
      "city             1000\n",
      "dtype: int64\n",
      "List of columns present in customerdf:\n",
      "Index(['customer_id', 'customer_name', 'country', 'city'], dtype='object')\n",
      "Number of unique values present in each column\n",
      "customer_id     :  1000\n",
      "customer_name     :  997\n",
      "country     :  238\n",
      "city     :  950\n"
     ]
    }
   ],
   "source": [
    "#check unique values - customerdf\n",
    "# print(customerdf.head())\n",
    "# print(customerdf['customer_id'].unique()) - it gives all the unique values\n",
    "# print(customerdf['customer_id'].value_counts()) - it gives count of each values in the columns\n",
    "# customerdf['customer_id'].duplicated() - it gives false if the values is not duplicated\n",
    "#nunique - gives no of unique values in the particular column\n",
    "print(customerdf.count())\n",
    "cols=customerdf.columns\n",
    "print(\"List of columns present in customerdf:\")\n",
    "print(cols)\n",
    "print(\"Number of unique values present in each column\")\n",
    "for i in cols:\n",
    "    print(f\"{i}     : \",customerdf[i].nunique())"
   ]
  },
  {
   "cell_type": "code",
   "execution_count": 9,
   "id": "353c50d0-fa83-4c1a-9161-2d9fd8bce138",
   "metadata": {},
   "outputs": [
    {
     "name": "stdout",
     "output_type": "stream",
     "text": [
      "order_id                  10000\n",
      "customer_id               10000\n",
      "product_id                10000\n",
      "product_name              10000\n",
      "product_category          10000\n",
      "payment_type              10000\n",
      "qty                       10000\n",
      "price                     10000\n",
      "datetime                  10000\n",
      "ecommerce_website_name    10000\n",
      "payment_txn_id            10000\n",
      "payment_txn_success       10000\n",
      "failure_reason            10000\n",
      "dtype: int64\n",
      "List of columns present in transactiondf:\n",
      "Index(['order_id', 'customer_id', 'product_id', 'product_name',\n",
      "       'product_category', 'payment_type', 'qty', 'price', 'datetime',\n",
      "       'ecommerce_website_name', 'payment_txn_id', 'payment_txn_success',\n",
      "       'failure_reason'],\n",
      "      dtype='object')\n",
      "Number of unique values present in each column\n",
      "order_id :  10000\n",
      "customer_id :  671\n",
      "product_id :  6281\n",
      "product_name :  6246\n",
      "product_category :  10\n",
      "payment_type :  4\n",
      "qty :  50\n",
      "price :  9542\n",
      "datetime :  9996\n",
      "ecommerce_website_name :  10\n",
      "payment_txn_id :  10000\n",
      "payment_txn_success :  2\n",
      "failure_reason :  6\n"
     ]
    }
   ],
   "source": [
    "# check unique values - transactiondf\n",
    "print(transactiondf.count())\n",
    "print(\"List of columns present in transactiondf:\")\n",
    "cols=transactiondf.columns\n",
    "print(cols)\n",
    "print(\"Number of unique values present in each column\")\n",
    "for i in cols:\n",
    "    print(f\"{i} : \",transactiondf[i].nunique())"
   ]
  },
  {
   "cell_type": "code",
   "execution_count": 10,
   "id": "0706499a-d424-43dc-9589-e00e0b3f7591",
   "metadata": {},
   "outputs": [],
   "source": [
    "df1=transactiondf[['order_id','customer_id','product_id','payment_txn_id','qty','price','datetime','ecommerce_website_name']]"
   ]
  },
  {
   "cell_type": "code",
   "execution_count": 11,
   "id": "9ac46187-b44b-4224-8059-fef1edb29255",
   "metadata": {},
   "outputs": [
    {
     "name": "stdout",
     "output_type": "stream",
     "text": [
      "product_id          10000\n",
      "product_name        10000\n",
      "product_category    10000\n",
      "dtype: int64\n",
      "6281\n",
      "6246\n",
      "10\n",
      "      product_id           product_name product_category\n",
      "0           8609  Central home & kitche   Home & Kitchen\n",
      "1           2409             Upon sport           Sports\n",
      "2           1145       Across stationer       Stationery\n",
      "3           8375    Start home & kitche   Home & Kitchen\n",
      "4           2149             Draw beaut           Beauty\n",
      "...          ...                    ...              ...\n",
      "9988        7708    Carry home & kitche   Home & Kitchen\n",
      "9993        6125               Time toy             Toys\n",
      "9994        3688          Special sport           Sports\n",
      "9997        3852            Human beaut           Beauty\n",
      "9998        7324            Light beaut           Beauty\n",
      "\n",
      "[6281 rows x 3 columns]\n",
      "6281\n",
      "4653\n",
      "10\n"
     ]
    }
   ],
   "source": [
    "df2=transactiondf[['product_id','product_name','product_category']]\n",
    "print(df2.count())\n",
    "print(df2['product_id'].nunique())\n",
    "print(df2['product_name'].nunique())\n",
    "print(df2['product_category'].nunique())\n",
    "# print(dv)\n",
    "df2s=df2\n",
    "df2s=df2s.drop_duplicates(subset='product_id')\n",
    "print(df2s)\n",
    "print(df2s['product_id'].nunique())\n",
    "print(df2s['product_name'].nunique())\n",
    "print(df2s['product_category'].nunique())"
   ]
  },
  {
   "cell_type": "code",
   "execution_count": 12,
   "id": "1ad34871-25c4-4c2f-a588-401eb5abdfd2",
   "metadata": {},
   "outputs": [
    {
     "data": {
      "text/html": [
       "<div>\n",
       "<style scoped>\n",
       "    .dataframe tbody tr th:only-of-type {\n",
       "        vertical-align: middle;\n",
       "    }\n",
       "\n",
       "    .dataframe tbody tr th {\n",
       "        vertical-align: top;\n",
       "    }\n",
       "\n",
       "    .dataframe thead th {\n",
       "        text-align: right;\n",
       "    }\n",
       "</style>\n",
       "<table border=\"1\" class=\"dataframe\">\n",
       "  <thead>\n",
       "    <tr style=\"text-align: right;\">\n",
       "      <th></th>\n",
       "      <th>payment_txn_id</th>\n",
       "      <th>payment_type</th>\n",
       "      <th>payment_txn_success</th>\n",
       "      <th>failure_reason</th>\n",
       "    </tr>\n",
       "  </thead>\n",
       "  <tbody>\n",
       "    <tr>\n",
       "      <th>0</th>\n",
       "      <td>a395e8c7</td>\n",
       "      <td>Wallet</td>\n",
       "      <td>N</td>\n",
       "      <td>Card Expired</td>\n",
       "    </tr>\n",
       "    <tr>\n",
       "      <th>1</th>\n",
       "      <td>b40791f8</td>\n",
       "      <td>Card</td>\n",
       "      <td>N</td>\n",
       "      <td>Invalid CVV</td>\n",
       "    </tr>\n",
       "    <tr>\n",
       "      <th>2</th>\n",
       "      <td>7fb6cca9</td>\n",
       "      <td>Card</td>\n",
       "      <td>N</td>\n",
       "      <td>Blocked Card</td>\n",
       "    </tr>\n",
       "    <tr>\n",
       "      <th>3</th>\n",
       "      <td>cae677f3</td>\n",
       "      <td>Card</td>\n",
       "      <td>N</td>\n",
       "      <td>Transaction Timeout</td>\n",
       "    </tr>\n",
       "    <tr>\n",
       "      <th>4</th>\n",
       "      <td>fbce1649</td>\n",
       "      <td>Card</td>\n",
       "      <td>N</td>\n",
       "      <td>Invalid CVV</td>\n",
       "    </tr>\n",
       "    <tr>\n",
       "      <th>...</th>\n",
       "      <td>...</td>\n",
       "      <td>...</td>\n",
       "      <td>...</td>\n",
       "      <td>...</td>\n",
       "    </tr>\n",
       "    <tr>\n",
       "      <th>9995</th>\n",
       "      <td>03c982f7</td>\n",
       "      <td>Wallet</td>\n",
       "      <td>Y</td>\n",
       "      <td></td>\n",
       "    </tr>\n",
       "    <tr>\n",
       "      <th>9996</th>\n",
       "      <td>46bd0811</td>\n",
       "      <td>Internet Banking</td>\n",
       "      <td>N</td>\n",
       "      <td>Blocked Card</td>\n",
       "    </tr>\n",
       "    <tr>\n",
       "      <th>9997</th>\n",
       "      <td>d115279c</td>\n",
       "      <td>UPI</td>\n",
       "      <td>Y</td>\n",
       "      <td></td>\n",
       "    </tr>\n",
       "    <tr>\n",
       "      <th>9998</th>\n",
       "      <td>6d1628b3</td>\n",
       "      <td>UPI</td>\n",
       "      <td>N</td>\n",
       "      <td>Card Expired</td>\n",
       "    </tr>\n",
       "    <tr>\n",
       "      <th>9999</th>\n",
       "      <td>224381cd</td>\n",
       "      <td>UPI</td>\n",
       "      <td>N</td>\n",
       "      <td>Insufficient Funds</td>\n",
       "    </tr>\n",
       "  </tbody>\n",
       "</table>\n",
       "<p>10000 rows × 4 columns</p>\n",
       "</div>"
      ],
      "text/plain": [
       "     payment_txn_id      payment_type payment_txn_success       failure_reason\n",
       "0          a395e8c7            Wallet                   N         Card Expired\n",
       "1          b40791f8              Card                   N          Invalid CVV\n",
       "2          7fb6cca9              Card                   N         Blocked Card\n",
       "3          cae677f3              Card                   N  Transaction Timeout\n",
       "4          fbce1649              Card                   N          Invalid CVV\n",
       "...             ...               ...                 ...                  ...\n",
       "9995       03c982f7            Wallet                   Y                     \n",
       "9996       46bd0811  Internet Banking                   N         Blocked Card\n",
       "9997       d115279c               UPI                   Y                     \n",
       "9998       6d1628b3               UPI                   N         Card Expired\n",
       "9999       224381cd               UPI                   N   Insufficient Funds\n",
       "\n",
       "[10000 rows x 4 columns]"
      ]
     },
     "execution_count": 12,
     "metadata": {},
     "output_type": "execute_result"
    }
   ],
   "source": [
    "df3=transactiondf[['payment_txn_id','payment_type','payment_txn_success','failure_reason']]\n",
    "df3"
   ]
  },
  {
   "cell_type": "code",
   "execution_count": 13,
   "id": "63a6b57b-7c6e-493b-9d3e-b5a9fa97c76c",
   "metadata": {},
   "outputs": [],
   "source": [
    "import mysql.connector\n",
    "# Establish a connection to the MySQL database\n",
    "conn = mysql.connector.connect(\n",
    "    host=\"localhost\",\n",
    "    user=\"root\",\n",
    "    password=\"Srilekha@04\",\n",
    "    database=\"Revstore1\"\n",
    ")\n",
    "cursor = conn.cursor()"
   ]
  },
  {
   "cell_type": "code",
   "execution_count": 14,
   "id": "7bec34c2-94d3-4e1c-9c94-10cf150c5b46",
   "metadata": {},
   "outputs": [],
   "source": [
    "import Database_methods"
   ]
  },
  {
   "cell_type": "code",
   "execution_count": 14,
   "id": "cde44301-e980-4b99-8160-0e8b32085d54",
   "metadata": {},
   "outputs": [
    {
     "name": "stdout",
     "output_type": "stream",
     "text": [
      "revs\n",
      "Database 'revs' created successfully or already exists.\n"
     ]
    }
   ],
   "source": [
    "Database_methods.create_and_verify_database(cursor,'revs')"
   ]
  },
  {
   "cell_type": "code",
   "execution_count": 15,
   "id": "96b152ff-e9d3-4eac-8b20-c50301506a0a",
   "metadata": {},
   "outputs": [
    {
     "name": "stdout",
     "output_type": "stream",
     "text": [
      "Attempted to drop database 'revs'\n",
      "Database 'revs' deleted successfully.\n"
     ]
    }
   ],
   "source": [
    "Database_methods.delete_and_verify_database(cursor,'revs')"
   ]
  },
  {
   "cell_type": "code",
   "execution_count": 22,
   "id": "b3437638-2e99-4e43-b952-66fcbc80725b",
   "metadata": {},
   "outputs": [
    {
     "name": "stdout",
     "output_type": "stream",
     "text": [
      "Attempted to use database 'test01'\n",
      "Database 'test01' is now in use.\n"
     ]
    }
   ],
   "source": [
    "Database_methods.use_and_verify_database(cursor,'test01')"
   ]
  },
  {
   "cell_type": "code",
   "execution_count": 23,
   "id": "11a917a9-4162-4efa-bd14-31ad4678449b",
   "metadata": {},
   "outputs": [
    {
     "name": "stdout",
     "output_type": "stream",
     "text": [
      "('tony', 1, 'cse')\n"
     ]
    }
   ],
   "source": [
    "cursor.execute(\"select * from course\")\n",
    "result=cursor.fetchmany()\n",
    "for row in result:\n",
    "    print(row)"
   ]
  },
  {
   "cell_type": "code",
   "execution_count": 18,
   "id": "b1491c11-19c0-4089-9ba7-b8fcffa2b9ec",
   "metadata": {},
   "outputs": [
    {
     "name": "stdout",
     "output_type": "stream",
     "text": [
      "Databases:\n",
      "grocery\n",
      "information_schema\n",
      "mysql\n",
      "performance_schema\n",
      "revs\n",
      "revstore\n",
      "revstore1\n",
      "revstore2\n",
      "revstore3\n",
      "sys\n",
      "test01\n",
      "test02\n",
      "test03\n"
     ]
    }
   ],
   "source": [
    "Database_methods.show_all_databases(cursor)"
   ]
  },
  {
   "cell_type": "code",
   "execution_count": 16,
   "id": "44ebacb1-7694-4dd7-805e-331c1a56bdc9",
   "metadata": {},
   "outputs": [],
   "source": [
    "import DDL_methods"
   ]
  },
  {
   "cell_type": "code",
   "execution_count": 17,
   "id": "c078feb9-c068-4433-839a-9d6ffe48f8f0",
   "metadata": {},
   "outputs": [
    {
     "name": "stdout",
     "output_type": "stream",
     "text": [
      "customersa\n",
      "successfully created the table\n"
     ]
    }
   ],
   "source": [
    "query=\"\"\"CREATE TABLE IF NOT EXISTS CustomersA (\n",
    "            customer_id INT PRIMARY KEY,\n",
    "            customer_name VARCHAR(255),\n",
    "            country VARCHAR(255),\n",
    "            city VARCHAR(255)\n",
    "            );\n",
    "            \"\"\"\n",
    "DDL_methods.create_and_verify_table(cursor,'CustomersA', query)"
   ]
  },
  {
   "cell_type": "code",
   "execution_count": 18,
   "id": "6f4c72e7-a498-4ace-9821-98e533c6c395",
   "metadata": {},
   "outputs": [
    {
     "name": "stdout",
     "output_type": "stream",
     "text": [
      "customersa\n",
      "successfully created the table\n"
     ]
    }
   ],
   "source": [
    "DDL_methods.create_and_verify_table(cursor,'CustomersA', query)"
   ]
  },
  {
   "cell_type": "code",
   "execution_count": 19,
   "id": "41cf8860-077b-4ac9-b5d9-4e99d362bb8f",
   "metadata": {},
   "outputs": [
    {
     "name": "stdout",
     "output_type": "stream",
     "text": [
      "Tables in the current database:\n",
      "customers\n",
      "customersa\n",
      "orders\n",
      "payments\n",
      "products\n"
     ]
    }
   ],
   "source": [
    "DDL_methods.show_all_tables(cursor)"
   ]
  },
  {
   "cell_type": "code",
   "execution_count": 23,
   "id": "2ae7dd90-9a40-4e20-a69b-6a952df50b1d",
   "metadata": {},
   "outputs": [
    {
     "name": "stdout",
     "output_type": "stream",
     "text": [
      "Structure of table 'customersa':\n",
      "('customer_id', 'int', 'NO', 'PRI', None, '')\n",
      "('customer_name', 'varchar(255)', 'YES', '', None, '')\n",
      "('country', 'varchar(255)', 'YES', '', None, '')\n",
      "('city', 'varchar(255)', 'YES', '', None, '')\n"
     ]
    }
   ],
   "source": [
    "DDL_methods.describe_table(cursor,'customersa')"
   ]
  },
  {
   "cell_type": "code",
   "execution_count": 7,
   "id": "86435858-1901-4596-82a0-c85910331af8",
   "metadata": {},
   "outputs": [
    {
     "name": "stdout",
     "output_type": "stream",
     "text": [
      "Alteration query executed on table 'customersa': ALTER TABLE CustomersA ADD COLUMN email VARCHAR(255)\n",
      "Structure of table 'customersa' after alteration:\n",
      "('customer_id', 'int', 'NO', 'PRI', None, '')\n",
      "('customer_name', 'varchar(255)', 'YES', '', None, '')\n",
      "('country', 'varchar(255)', 'YES', '', None, '')\n",
      "('city', 'varchar(255)', 'YES', '', None, '')\n",
      "('email', 'varchar(255)', 'YES', '', None, '')\n"
     ]
    }
   ],
   "source": [
    "alter_query = \"ALTER TABLE CustomersA ADD COLUMN email VARCHAR(255)\"\n",
    "DDL_methods.alter_table(cursor,'customersa',alter_query)"
   ]
  },
  {
   "cell_type": "code",
   "execution_count": 5,
   "id": "d0698456-08dd-4b02-a26e-ba982fdd1293",
   "metadata": {},
   "outputs": [
    {
     "name": "stdout",
     "output_type": "stream",
     "text": [
      "Error occurred while truncating the table 'customersa': 1146 (42S02): Table 'revstore1.customersa' doesn't exist\n"
     ]
    }
   ],
   "source": [
    "DDL_methods.truncate_table(cursor,'customersa')"
   ]
  },
  {
   "cell_type": "code",
   "execution_count": 4,
   "id": "6c30cb3f-4813-456b-a549-0bc1836a0e32",
   "metadata": {},
   "outputs": [
    {
     "name": "stdout",
     "output_type": "stream",
     "text": [
      "Table 'customersa' dropped successfully.\n"
     ]
    }
   ],
   "source": [
    "DDL_methods.drop_table(cursor,'customersa')"
   ]
  },
  {
   "cell_type": "code",
   "execution_count": 19,
   "id": "eec58600-8a88-4333-95de-04cf521dbd9b",
   "metadata": {},
   "outputs": [],
   "source": [
    "import DML_methods"
   ]
  },
  {
   "cell_type": "code",
   "execution_count": 20,
   "id": "a1d7994a-a6aa-414d-a1a8-82aa2e2b50b8",
   "metadata": {},
   "outputs": [
    {
     "name": "stdout",
     "output_type": "stream",
     "text": [
      "Data inserted into 'customersa' successfully.\n",
      "Total number of rows in 'customersa': 1000\n"
     ]
    }
   ],
   "source": [
    "insert_query=\"\"\"\n",
    "        INSERT INTO Customersa (customer_id, customer_name, country, city)\n",
    "        VALUES (%s, %s, %s, %s)\n",
    "        ON DUPLICATE KEY UPDATE customer_name = VALUES(customer_name), country = VALUES(country), city = VALUES(city)\n",
    "        \"\"\"\n",
    "data=customerdf.values.tolist()\n",
    "DML_methods.insert_and_verify_data(cursor,conn,'customersa',insert_query,data)"
   ]
  },
  {
   "cell_type": "code",
   "execution_count": 21,
   "id": "141f248c-b484-4975-886b-84e58502779e",
   "metadata": {},
   "outputs": [
    {
     "name": "stdout",
     "output_type": "stream",
     "text": [
      "Data updated in 'customersa' successfully.\n"
     ]
    }
   ],
   "source": [
    "set_clause=\"country='USA'\"\n",
    "condition=\"customer_id=102\"\n",
    "DML_methods.update_data(cursor, conn, 'customersa', set_clause, condition)"
   ]
  },
  {
   "cell_type": "code",
   "execution_count": 22,
   "id": "f009ff03-af20-43b8-8a3d-85f8f095a47d",
   "metadata": {},
   "outputs": [
    {
     "name": "stdout",
     "output_type": "stream",
     "text": [
      "Data deleted from 'customersa' successfully.\n"
     ]
    }
   ],
   "source": [
    "condition=\"customer_id=102\"\n",
    "DML_methods.delete_data(cursor, conn, 'customersa',condition)"
   ]
  },
  {
   "cell_type": "code",
   "execution_count": 23,
   "id": "2831ba53-92d8-40f0-b1f2-080ae7b089ae",
   "metadata": {},
   "outputs": [],
   "source": [
    "columns='*'\n",
    "# DML_methods.select_data(cursor,'customersa',columns)"
   ]
  },
  {
   "cell_type": "code",
   "execution_count": 24,
   "id": "e9c0c203-1a73-4e64-a327-3a29f7ec456b",
   "metadata": {},
   "outputs": [
    {
     "name": "stdout",
     "output_type": "stream",
     "text": [
      "('British Indian Ocean Territory (Chagos Archipelago)',)\n",
      "('Somalia',)\n",
      "('Timor-Leste',)\n",
      "('Wallis and Futuna',)\n",
      "('Tuvalu',)\n",
      "('Isle of Man',)\n",
      "('Latvia',)\n",
      "('Central African Republic',)\n",
      "('Greece',)\n",
      "('Guinea',)\n",
      "Query executed successfully.\n"
     ]
    }
   ],
   "source": [
    "query=\"select country from customersa limit 10\"\n",
    "DML_methods.execute_query(cursor,conn,query)"
   ]
  },
  {
   "cell_type": "code",
   "execution_count": null,
   "id": "3b23eb73-3272-400e-a87b-dc485ff7d62a",
   "metadata": {},
   "outputs": [],
   "source": []
  },
  {
   "cell_type": "code",
   "execution_count": null,
   "id": "78f00a6e-6a75-4db5-b039-44dcdf8fd1a4",
   "metadata": {},
   "outputs": [],
   "source": []
  },
  {
   "cell_type": "code",
   "execution_count": 15,
   "id": "b1ee165d-5d73-49bc-8fae-d4306a909326",
   "metadata": {},
   "outputs": [
    {
     "name": "stdout",
     "output_type": "stream",
     "text": [
      "revstorep0\n",
      "Database 'revstorep0' created successfully or already exists.\n"
     ]
    }
   ],
   "source": [
    "#to mysql\n",
    "import Database_methods\n",
    "Database_methods.create_and_verify_database(cursor,'revstorep0')"
   ]
  },
  {
   "cell_type": "code",
   "execution_count": 16,
   "id": "c52ac607-7f1e-40b4-9d38-c344718879ff",
   "metadata": {},
   "outputs": [],
   "source": [
    "import mysql.connector\n",
    "# Establish a connection to the MySQL database\n",
    "conn = mysql.connector.connect(\n",
    "    host=\"localhost\",\n",
    "    user=\"root\",\n",
    "    password=\"Srilekha@04\",\n",
    "    database=\"revstorep0\"\n",
    ")\n",
    "cursor = conn.cursor()"
   ]
  },
  {
   "cell_type": "code",
   "execution_count": 17,
   "id": "398944e9-b05e-48fc-9f24-121efdb3ed85",
   "metadata": {},
   "outputs": [
    {
     "name": "stdout",
     "output_type": "stream",
     "text": [
      "Table 'customersa' dropped successfully.\n"
     ]
    }
   ],
   "source": [
    "import DDL_methods\n",
    "DDL_methods.drop_table(cursor,'customersa')"
   ]
  },
  {
   "cell_type": "code",
   "execution_count": 22,
   "id": "7e166e77-53ea-416d-a572-69f56179155c",
   "metadata": {},
   "outputs": [],
   "source": [
    "#create table\n",
    "import DDL_methods\n",
    "customer_query=\"\"\"CREATE TABLE IF NOT EXISTS Customers (\n",
    "            customer_id INT PRIMARY KEY,\n",
    "            customer_name VARCHAR(255),\n",
    "            country VARCHAR(255),\n",
    "            city VARCHAR(255)\n",
    "            );\n",
    "            \"\"\"\n",
    "products_query=\"\"\"\n",
    "        CREATE TABLE IF NOT EXISTS Products (\n",
    "            product_id INT PRIMARY KEY,\n",
    "            product_name VARCHAR(255),\n",
    "            product_category VARCHAR(255)\n",
    "        );\n",
    "        \"\"\"\n",
    "payments_query=\"\"\"\n",
    "        CREATE TABLE IF NOT EXISTS Payments (\n",
    "            payment_txn_id VARCHAR(255) PRIMARY KEY,\n",
    "            payment_type VARCHAR(255),\n",
    "            payment_txn_success VARCHAR(255),\n",
    "            failure_reason VARCHAR(255)\n",
    "        );\n",
    "        \"\"\"\n",
    "orders_query=\"\"\"\n",
    "        CREATE TABLE IF NOT EXISTS Orders (\n",
    "            order_id INT PRIMARY KEY,\n",
    "            customer_id INT,\n",
    "            product_id INT,\n",
    "            payment_txn_id VARCHAR(255),\n",
    "            qty INT,\n",
    "            price DECIMAL(10, 2),\n",
    "            datetime DATETIME,\n",
    "            ecommerce_website_name VARCHAR(255),\n",
    "            FOREIGN KEY (payment_txn_id) REFERENCES Payments(payment_txn_id),\n",
    "            FOREIGN KEY (product_id) REFERENCES Products(product_id),\n",
    "            FOREIGN KEY (customer_id) REFERENCES Customers(customer_id)\n",
    "        );\n",
    "        \"\"\""
   ]
  },
  {
   "cell_type": "code",
   "execution_count": 23,
   "id": "e9f910c9-7365-4163-8f8a-9608bec71363",
   "metadata": {},
   "outputs": [
    {
     "name": "stdout",
     "output_type": "stream",
     "text": [
      "successfully created the table\n",
      "successfully created the table\n",
      "successfully created the table\n",
      "successfully created the table\n"
     ]
    }
   ],
   "source": [
    "DDL_methods.create_and_verify_table(cursor,'customers', customer_query)\n",
    "DDL_methods.create_and_verify_table(cursor,'Products', products_query)\n",
    "DDL_methods.create_and_verify_table(cursor,'Payments', payments_query)\n",
    "DDL_methods.create_and_verify_table(cursor,'Orders', orders_query)"
   ]
  },
  {
   "cell_type": "code",
   "execution_count": null,
   "id": "e6ab7857-15ff-4898-8460-c199f1f4d965",
   "metadata": {},
   "outputs": [],
   "source": [
    "#insert data\n"
   ]
  },
  {
   "cell_type": "code",
   "execution_count": null,
   "id": "7962818c-488d-490b-909f-852c5914fdfe",
   "metadata": {},
   "outputs": [],
   "source": []
  },
  {
   "cell_type": "code",
   "execution_count": null,
   "id": "38514199-39e6-41e8-96ba-5d5a9ae97250",
   "metadata": {},
   "outputs": [],
   "source": []
  }
 ],
 "metadata": {
  "kernelspec": {
   "display_name": "Python 3 (ipykernel)",
   "language": "python",
   "name": "python3"
  },
  "language_info": {
   "codemirror_mode": {
    "name": "ipython",
    "version": 3
   },
   "file_extension": ".py",
   "mimetype": "text/x-python",
   "name": "python",
   "nbconvert_exporter": "python",
   "pygments_lexer": "ipython3",
   "version": "3.10.1"
  }
 },
 "nbformat": 4,
 "nbformat_minor": 5
}
